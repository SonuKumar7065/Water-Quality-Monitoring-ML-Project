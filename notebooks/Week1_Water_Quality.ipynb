{
  "nbformat": 4,
  "nbformat_minor": 0,
  "metadata": {
    "colab": {
      "provenance": []
    },
    "kernelspec": {
      "name": "python3",
      "display_name": "Python 3"
    },
    "language_info": {
      "name": "python"
    }
  },
  "cells": [
    {
      "cell_type": "code",
      "execution_count": 2,
      "metadata": {
        "colab": {
          "base_uri": "https://localhost:8080/"
        },
        "id": "CqIQVEn20IVo",
        "outputId": "7140b5f0-4668-4854-8607-556e3b285a06"
      },
      "outputs": [
        {
          "output_type": "stream",
          "name": "stdout",
          "text": [
            "📌 Dataset Basic Info:\n",
            "\n",
            "<class 'pandas.core.frame.DataFrame'>\n",
            "RangeIndex: 3276 entries, 0 to 3275\n",
            "Data columns (total 10 columns):\n",
            " #   Column           Non-Null Count  Dtype  \n",
            "---  ------           --------------  -----  \n",
            " 0   ph               2785 non-null   float64\n",
            " 1   Hardness         3276 non-null   float64\n",
            " 2   Solids           3276 non-null   float64\n",
            " 3   Chloramines      3276 non-null   float64\n",
            " 4   Sulfate          2495 non-null   float64\n",
            " 5   Conductivity     3276 non-null   float64\n",
            " 6   Organic_carbon   3276 non-null   float64\n",
            " 7   Trihalomethanes  3114 non-null   float64\n",
            " 8   Turbidity        3276 non-null   float64\n",
            " 9   Potability       3276 non-null   int64  \n",
            "dtypes: float64(9), int64(1)\n",
            "memory usage: 256.1 KB\n",
            "None\n",
            "\n",
            "📌 First 5 Rows:\n",
            "\n",
            "         ph    Hardness        Solids  Chloramines     Sulfate  Conductivity  \\\n",
            "0       NaN  204.890455  20791.318981     7.300212  368.516441    564.308654   \n",
            "1  3.716080  129.422921  18630.057858     6.635246         NaN    592.885359   \n",
            "2  8.099124  224.236259  19909.541732     9.275884         NaN    418.606213   \n",
            "3  8.316766  214.373394  22018.417441     8.059332  356.886136    363.266516   \n",
            "4  9.092223  181.101509  17978.986339     6.546600  310.135738    398.410813   \n",
            "\n",
            "   Organic_carbon  Trihalomethanes  Turbidity  Potability  \n",
            "0       10.379783        86.990970   2.963135           0  \n",
            "1       15.180013        56.329076   4.500656           0  \n",
            "2       16.868637        66.420093   3.055934           0  \n",
            "3       18.436524       100.341674   4.628771           0  \n",
            "4       11.558279        31.997993   4.075075           0  \n",
            "\n",
            "📌 Statistical Summary:\n",
            "\n",
            "                ph     Hardness        Solids  Chloramines      Sulfate  \\\n",
            "count  2785.000000  3276.000000   3276.000000  3276.000000  2495.000000   \n",
            "mean      7.080795   196.369496  22014.092526     7.122277   333.775777   \n",
            "std       1.594320    32.879761   8768.570828     1.583085    41.416840   \n",
            "min       0.000000    47.432000    320.942611     0.352000   129.000000   \n",
            "25%       6.093092   176.850538  15666.690297     6.127421   307.699498   \n",
            "50%       7.036752   196.967627  20927.833607     7.130299   333.073546   \n",
            "75%       8.062066   216.667456  27332.762127     8.114887   359.950170   \n",
            "max      14.000000   323.124000  61227.196008    13.127000   481.030642   \n",
            "\n",
            "       Conductivity  Organic_carbon  Trihalomethanes    Turbidity   Potability  \n",
            "count   3276.000000     3276.000000      3114.000000  3276.000000  3276.000000  \n",
            "mean     426.205111       14.284970        66.396293     3.966786     0.390110  \n",
            "std       80.824064        3.308162        16.175008     0.780382     0.487849  \n",
            "min      181.483754        2.200000         0.738000     1.450000     0.000000  \n",
            "25%      365.734414       12.065801        55.844536     3.439711     0.000000  \n",
            "50%      421.884968       14.218338        66.622485     3.955028     0.000000  \n",
            "75%      481.792304       16.557652        77.337473     4.500320     1.000000  \n",
            "max      753.342620       28.300000       124.000000     6.739000     1.000000  \n",
            "\n",
            "📌 Missing Values Count:\n",
            "\n",
            "ph                 491\n",
            "Hardness             0\n",
            "Solids               0\n",
            "Chloramines          0\n",
            "Sulfate            781\n",
            "Conductivity         0\n",
            "Organic_carbon       0\n",
            "Trihalomethanes    162\n",
            "Turbidity            0\n",
            "Potability           0\n",
            "dtype: int64\n",
            "\n",
            "📌 Dataset Shape: (3276, 10)\n"
          ]
        }
      ],
      "source": [
        "# Week 1 - Water Quality Monitoring Project\n",
        "# Author: Sonu Kumar\n",
        "\n",
        "# Step 1: Import Libraries\n",
        "import pandas as pd\n",
        "import numpy as np\n",
        "\n",
        "# Step 2: Load Dataset\n",
        "data = pd.read_csv(\"water_potability.csv\")\n",
        "\n",
        "# Step 3: Explore Dataset\n",
        "print(\"📌 Dataset Basic Info:\\n\")\n",
        "print(data.info())\n",
        "\n",
        "print(\"\\n📌 First 5 Rows:\\n\")\n",
        "print(data.head())\n",
        "\n",
        "print(\"\\n📌 Statistical Summary:\\n\")\n",
        "print(data.describe())\n",
        "\n",
        "print(\"\\n📌 Missing Values Count:\\n\")\n",
        "print(data.isnull().sum())\n",
        "\n",
        "print(\"\\n📌 Dataset Shape:\", data.shape)\n"
      ]
    }
  ]
}